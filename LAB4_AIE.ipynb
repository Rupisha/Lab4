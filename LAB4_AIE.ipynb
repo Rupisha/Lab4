{
 "cells": [
  {
   "cell_type": "code",
   "execution_count": 1,
   "id": "fdac1677",
   "metadata": {},
   "outputs": [
    {
     "name": "stdout",
     "output_type": "stream",
     "text": [
      "Classification Report:\n",
      "              precision    recall  f1-score   support\n",
      "\n",
      "       Bream       1.00      1.00      1.00        10\n",
      "      Parkki       1.00      1.00      1.00         1\n",
      "       Perch       0.75      0.67      0.71         9\n",
      "        Pike       1.00      1.00      1.00         3\n",
      "       Roach       0.00      0.00      0.00         1\n",
      "       Smelt       1.00      1.00      1.00         5\n",
      "   Whitefish       0.00      0.00      0.00         3\n",
      "\n",
      "    accuracy                           0.78        32\n",
      "   macro avg       0.68      0.67      0.67        32\n",
      "weighted avg       0.80      0.78      0.79        32\n",
      "\n",
      "Confusion Matrix:\n",
      "[[10  0  0  0  0  0  0]\n",
      " [ 0  1  0  0  0  0  0]\n",
      " [ 0  0  6  0  3  0  0]\n",
      " [ 0  0  0  3  0  0  0]\n",
      " [ 0  0  1  0  0  0  0]\n",
      " [ 0  0  0  0  0  5  0]\n",
      " [ 0  0  1  0  2  0  0]]\n",
      "Predicted species: ['Bream']\n"
     ]
    },
    {
     "name": "stderr",
     "output_type": "stream",
     "text": [
      "C:\\Users\\Rupisha\\anaconda3\\Lib\\site-packages\\sklearn\\metrics\\_classification.py:1469: UndefinedMetricWarning: Precision and F-score are ill-defined and being set to 0.0 in labels with no predicted samples. Use `zero_division` parameter to control this behavior.\n",
      "  _warn_prf(average, modifier, msg_start, len(result))\n",
      "C:\\Users\\Rupisha\\anaconda3\\Lib\\site-packages\\sklearn\\metrics\\_classification.py:1469: UndefinedMetricWarning: Precision and F-score are ill-defined and being set to 0.0 in labels with no predicted samples. Use `zero_division` parameter to control this behavior.\n",
      "  _warn_prf(average, modifier, msg_start, len(result))\n",
      "C:\\Users\\Rupisha\\anaconda3\\Lib\\site-packages\\sklearn\\metrics\\_classification.py:1469: UndefinedMetricWarning: Precision and F-score are ill-defined and being set to 0.0 in labels with no predicted samples. Use `zero_division` parameter to control this behavior.\n",
      "  _warn_prf(average, modifier, msg_start, len(result))\n",
      "C:\\Users\\Rupisha\\anaconda3\\Lib\\site-packages\\sklearn\\base.py:464: UserWarning: X does not have valid feature names, but RandomForestClassifier was fitted with feature names\n",
      "  warnings.warn(\n"
     ]
    }
   ],
   "source": [
    "import pandas as pd\n",
    "from sklearn.model_selection import train_test_split\n",
    "from sklearn.ensemble import RandomForestClassifier\n",
    "from sklearn.metrics import classification_report, confusion_matrix\n",
    "import pickle\n",
    "\n",
    "# Step 1: Load and preprocess data\n",
    "data = pd.read_csv('Fish.csv')\n",
    "X = data.drop('Species', axis=1)  # Features\n",
    "y = data['Species']  # Target variable\n",
    "\n",
    "# Step 2: Split data into training and testing sets\n",
    "X_train, X_test, y_train, y_test = train_test_split(X, y, test_size=0.2, random_state=42)\n",
    "\n",
    "# Step 3: Choose a model and train it\n",
    "model = RandomForestClassifier(random_state=42)\n",
    "model.fit(X_train, y_train)\n",
    "\n",
    "# Step 4: Evaluate the model\n",
    "y_pred = model.predict(X_test)\n",
    "print(\"Classification Report:\")\n",
    "print(classification_report(y_test, y_pred))\n",
    "print(\"Confusion Matrix:\")\n",
    "print(confusion_matrix(y_test, y_pred))\n",
    "\n",
    "# Step 5: Save the trained model as a pickle file\n",
    "with open('fish_classifier.pkl', 'wb') as file:\n",
    "    pickle.dump(model, file)\n",
    "\n",
    "# Step 6: Use the trained model to make predictions\n",
    "new_fish_data = [[300, 25, 27, 32, 12, 5]]  # Example data for a new fish\n",
    "with open('fish_classifier.pkl', 'rb') as file:\n",
    "    loaded_model = pickle.load(file)\n",
    "predicted_species = loaded_model.predict(new_fish_data)\n",
    "print(\"Predicted species:\", predicted_species)\n"
   ]
  }
 ],
 "metadata": {
  "kernelspec": {
   "display_name": "Python 3 (ipykernel)",
   "language": "python",
   "name": "python3"
  },
  "language_info": {
   "codemirror_mode": {
    "name": "ipython",
    "version": 3
   },
   "file_extension": ".py",
   "mimetype": "text/x-python",
   "name": "python",
   "nbconvert_exporter": "python",
   "pygments_lexer": "ipython3",
   "version": "3.11.5"
  }
 },
 "nbformat": 4,
 "nbformat_minor": 5
}
